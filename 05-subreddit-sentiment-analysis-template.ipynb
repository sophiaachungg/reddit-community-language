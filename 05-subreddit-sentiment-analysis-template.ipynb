{
 "cells": [
  {
   "cell_type": "code",
   "execution_count": 5,
   "id": "9955fd2c-cdc6-4694-b04b-9c704d62ec1a",
   "metadata": {},
   "outputs": [
    {
     "name": "stderr",
     "output_type": "stream",
     "text": [
      "[nltk_data] Downloading package brown to\n",
      "[nltk_data]     /Users/sophiachung/nltk_data...\n",
      "[nltk_data]   Package brown is already up-to-date!\n"
     ]
    },
    {
     "data": {
      "text/plain": [
       "True"
      ]
     },
     "execution_count": 5,
     "metadata": {},
     "output_type": "execute_result"
    }
   ],
   "source": [
    "import numpy as np\n",
    "import pandas as pd\n",
    "from textblob import TextBlob\n",
    "import nltk\n",
    "nltk.download('brown')"
   ]
  },
  {
   "cell_type": "code",
   "execution_count": 6,
   "id": "9a29ee83-90c7-47ac-9158-294b9941d8f8",
   "metadata": {},
   "outputs": [],
   "source": [
    "def sentiment_analysis(subreddit):\n",
    "    # read in the raw data file\n",
    "    path = 'raw/r_' + subreddit + '_dataset.csv'\n",
    "    df = pd.read_csv(path)\n",
    "\n",
    "    # pull text from posts\n",
    "    df = df[['Title', 'Post Text']].dropna()\n",
    "    df = df.reset_index(drop=True)\n",
    "\n",
    "    # combine text from title and post\n",
    "    df['Text'] = df['Title'] + ' ' + df['Post Text']\n",
    "\n",
    "    # initialize new columns\n",
    "    df['Tags'] = ''\n",
    "    df['Noun Phrases'] = ''\n",
    "\n",
    "    # analyze average polarity of each text cell\n",
    "    for post in range(len(df)):\n",
    "        blob = TextBlob(df.at[post, 'Text'])\n",
    "        df.at[post,'Tags'] = blob.tags\n",
    "        df.at[post,'Noun Phrases'] = blob.noun_phrases\n",
    "        polarity = []\n",
    "        for sentence in blob.sentences:\n",
    "            polarity.append(sentence.sentiment.polarity)\n",
    "        if polarity: \n",
    "            df.at[post,'Polarity'] = np.mean(polarity)\n",
    "        else:\n",
    "            df.at[post,'Polarity'] = np.nan\n",
    "\n",
    "    output_file_path = 'sentiment/r_' + subreddit + '_sentiment.csv'\n",
    "    df.to_csv(output_file_path, index=True)\n",
    "    print(\"\\nsentiment analysis dataframe saved to:\", output_file_path)"
   ]
  },
  {
   "cell_type": "code",
   "execution_count": 7,
   "id": "cc243d9e-1cb3-4db2-a599-fedb2eb72450",
   "metadata": {},
   "outputs": [],
   "source": [
    "subreddit_list = ['adops']"
   ]
  },
  {
   "cell_type": "code",
   "execution_count": 8,
   "id": "431098fb-7b07-4cc4-9283-dfa54923a70b",
   "metadata": {},
   "outputs": [
    {
     "name": "stdout",
     "output_type": "stream",
     "text": [
      "\n",
      "sentiment analysis dataframe saved to: sentiment/r_adops_sentiment.csv\n"
     ]
    }
   ],
   "source": [
    "for subreddit in subreddit_list:\n",
    "    name = subreddit.lower()\n",
    "    sentiment_analysis(name)"
   ]
  },
  {
   "cell_type": "code",
   "execution_count": null,
   "id": "94ec6df2-6cd2-4799-83bc-616aba480003",
   "metadata": {},
   "outputs": [],
   "source": []
  }
 ],
 "metadata": {
  "kernelspec": {
   "display_name": "Python 3 (ipykernel)",
   "language": "python",
   "name": "python3"
  },
  "language_info": {
   "codemirror_mode": {
    "name": "ipython",
    "version": 3
   },
   "file_extension": ".py",
   "mimetype": "text/x-python",
   "name": "python",
   "nbconvert_exporter": "python",
   "pygments_lexer": "ipython3",
   "version": "3.12.4"
  }
 },
 "nbformat": 4,
 "nbformat_minor": 5
}
