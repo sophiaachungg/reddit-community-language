{
 "cells": [
  {
   "cell_type": "code",
   "execution_count": null,
   "id": "6c52b767-7121-4d9e-abb7-ad60d5a6a352",
   "metadata": {},
   "outputs": [],
   "source": [
    "# install necessary packages\n",
    "# pip install praw\n",
    "# pip install datetime\n",
    "# pip install pandas"
   ]
  },
  {
   "cell_type": "code",
   "execution_count": null,
   "id": "73abf3ca-8eee-413f-acb8-3d4e1381e3c5",
   "metadata": {},
   "outputs": [],
   "source": [
    "# import necessary packages\n",
    "import praw\n",
    "import pandas as pd\n",
    "import datetime"
   ]
  },
  {
   "cell_type": "code",
   "execution_count": null,
   "id": "ad4c54c1-b2f0-41dd-b358-6fbd5aae2803",
   "metadata": {},
   "outputs": [],
   "source": [
    "# optional package for debugging (helps chatgpt help you debug)\n",
    "# import logging\n",
    "# logging.basicConfig(level=logging.DEBUG)"
   ]
  },
  {
   "cell_type": "code",
   "execution_count": null,
   "id": "0ce8b340-d9c0-4d0d-9b8c-8004575fa600",
   "metadata": {},
   "outputs": [],
   "source": [
    "# initialize reddit via PRAW\n",
    "reddit = praw.Reddit(\n",
    "    client_id=\"\", # must create reddit developer acc first\n",
    "    client_secret=\"\", # copy and paste client_id and client_secret here\n",
    "    user_agent=\"call-lang-evol-1.0 by u/book_nook_3000\" # name of user_agent by u/username\n",
    ")\n",
    "\n",
    "# Check if script has correct scope\n",
    "try:\n",
    "    print(\"Scopes available:\", reddit.auth.scopes())\n",
    "except Exception as e:\n",
    "    print(\"An error occurred:\", e)\n",
    "# if the result of this cell is {'*'}, you're ready to scrape!"
   ]
  },
  {
   "cell_type": "code",
   "execution_count": null,
   "id": "678e3768-54cc-45b2-8994-a7c5694854ee",
   "metadata": {},
   "outputs": [],
   "source": [
    "# select subreddit to scrape\n",
    "subreddit = reddit.subreddit(\"\")\n",
    "\n",
    "# Scraping the top posts of all time\n",
    "posts = subreddit.top(time_filter = \"all\", limit = None)\n",
    " \n",
    "posts_dict = {\"Title\": [], \"Post Text\": [],\n",
    "              \"ID\": [], \"Score\": [], \"Upvote Ratio\": [],\n",
    "              \"Total Comments\": [],\"Created On\":[], \"Post URL\": [],\n",
    "              \"Original Content\": []\n",
    "              }\n",
    "\n",
    "start_date = '01-01-20 00:00:00' # change start date if necessary\n",
    "start_date = datetime.datetime.strptime(start_date, '%d-%m-%y %H:%M:%S').timestamp()\n",
    "\n",
    "for post in posts:\n",
    "    # Date of each posts' creation\n",
    "    date = post.created_utc\n",
    "    if date > start_date:\n",
    "        # Title of each post\n",
    "        posts_dict[\"Title\"].append(post.title)\n",
    "     \n",
    "        # Text inside a post\n",
    "        posts_dict[\"Post Text\"].append(post.selftext)\n",
    "     \n",
    "        # Unique ID of each post\n",
    "        posts_dict[\"ID\"].append(post.id)\n",
    "     \n",
    "        # The score of a post\n",
    "        posts_dict[\"Score\"].append(post.score)\n",
    "        \n",
    "        # Upvote Ratio of a post\n",
    "        posts_dict[\"Upvote Ratio\"].append(post.upvote_ratio)\n",
    "     \n",
    "        # Total number of comments inside the post\n",
    "        posts_dict[\"Total Comments\"].append(post.num_comments)\n",
    "         \n",
    "        # Date the post was Created\n",
    "        posts_dict[\"Created On\"].append(post.created_utc)\n",
    "        \n",
    "        # URL of each post\n",
    "        posts_dict[\"Post URL\"].append(post.url)\n",
    "        \n",
    "        # Flair of each post\n",
    "        posts_dict[\"Original Content\"].append(post.is_original_content)\n",
    "        \n",
    "# Saving the data in a pandas dataframe\n",
    "all_posts = pd.DataFrame(posts_dict)\n",
    "all_posts['Created On'] = pd.to_datetime(all_posts['Created On'],  unit='s')\n",
    "all_posts"
   ]
  },
  {
   "cell_type": "code",
   "execution_count": null,
   "id": "b9b1f2ca-621e-4279-90dc-e9af99fc03cb",
   "metadata": {},
   "outputs": [],
   "source": [
    "# save raw data file to csv, place in /raw data folder\n",
    "all_posts.to_csv('/Users/sophiachung/Documents/reddit_proj/raw/r_[subredddit]_dataset.csv')"
   ]
  }
 ],
 "metadata": {
  "kernelspec": {
   "display_name": "Python 3 (ipykernel)",
   "language": "python",
   "name": "python3"
  },
  "language_info": {
   "codemirror_mode": {
    "name": "ipython",
    "version": 3
   },
   "file_extension": ".py",
   "mimetype": "text/x-python",
   "name": "python",
   "nbconvert_exporter": "python",
   "pygments_lexer": "ipython3",
   "version": "3.12.4"
  }
 },
 "nbformat": 4,
 "nbformat_minor": 5
}
