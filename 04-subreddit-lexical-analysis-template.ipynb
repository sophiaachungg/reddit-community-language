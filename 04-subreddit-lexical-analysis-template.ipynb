{
 "cells": [
  {
   "cell_type": "code",
   "execution_count": 1,
   "id": "9506ff93-2d61-4024-af77-6650660a4626",
   "metadata": {},
   "outputs": [],
   "source": [
    "# import necessary packages\n",
    "import pandas as pd\n",
    "import re\n",
    "import nltk\n",
    "from nltk.corpus import words\n",
    "from nltk.corpus import wordnet\n",
    "import string\n",
    "import numpy as np"
   ]
  },
  {
   "cell_type": "code",
   "execution_count": 3,
   "id": "d39b9f59-142d-4422-ad4d-badfa6231bc3",
   "metadata": {},
   "outputs": [],
   "source": [
    "# function to clean a list of lemmatized strings\n",
    "def clean_lemmatized_strings(lemmatized_list):\n",
    "    cleaned_list = []\n",
    "    for text in lemmatized_list:\n",
    "        cleaned_text = re.sub(r'\\bx200b\\b', '', text)  # remove 'x200b'\n",
    "        cleaned_text = re.sub(r'\\b\\d+\\b', '', cleaned_text)  # remove strings that are only numbers\n",
    "        cleaned_text = re.sub(r'\\b\\d\\w*\\b', '', cleaned_text)  # remove strings that start with numbers\n",
    "        cleaned_text = re.sub(r'\\b(?:https?|www)\\S*\\b', '', cleaned_text)  # remove URLs starting with http, https, www\n",
    "        cleaned_text = re.sub(r'\\b[a-zA-Z]\\b', '', cleaned_text)  # remove singular letters\n",
    "        \n",
    "        # only append non-empty, clean strings to the list, removing brackets and extra spaces\n",
    "        cleaned_text = cleaned_text.strip().strip('[]')\n",
    "        if cleaned_text:  # check if the string is non-empty\n",
    "            cleaned_list.append(cleaned_text)\n",
    "    \n",
    "    return cleaned_list"
   ]
  },
  {
   "cell_type": "code",
   "execution_count": 5,
   "id": "d52400a4-54a7-4771-a51f-a5d80fbb4b0d",
   "metadata": {},
   "outputs": [
    {
     "name": "stderr",
     "output_type": "stream",
     "text": [
      "[nltk_data] Downloading package wordnet to\n",
      "[nltk_data]     /Users/sophiachung/nltk_data...\n",
      "[nltk_data]   Package wordnet is already up-to-date!\n"
     ]
    }
   ],
   "source": [
    "# function to check if word exists in WordNet\n",
    "nltk.download('wordnet')\n",
    "def is_real_word(word):\n",
    "    return bool(wordnet.synsets(word))  # returns True if the word exists"
   ]
  },
  {
   "cell_type": "code",
   "execution_count": 7,
   "id": "30c64e7a-fb1f-4a30-b8d2-a73c32e3b9fb",
   "metadata": {},
   "outputs": [
    {
     "name": "stderr",
     "output_type": "stream",
     "text": [
      "[nltk_data] Downloading package words to\n",
      "[nltk_data]     /Users/sophiachung/nltk_data...\n",
      "[nltk_data]   Package words is already up-to-date!\n"
     ]
    }
   ],
   "source": [
    "nltk.download('words')\n",
    "nltk_words = set(words.words())"
   ]
  },
  {
   "cell_type": "code",
   "execution_count": 9,
   "id": "ae75c304-dc76-4383-9eaf-b4147788ff70",
   "metadata": {},
   "outputs": [],
   "source": [
    "def clean_neologisms(array):\n",
    "    cleaned_neo = []\n",
    "    for lemma in array:\n",
    "        # remove lemmas that are 2 characters or less long\n",
    "        if len(lemma) > 2 and lemma not in string.punctuation:\n",
    "            cleaned_neo.append(lemma)\n",
    "    return np.array(cleaned_neo)"
   ]
  },
  {
   "cell_type": "code",
   "execution_count": 11,
   "id": "987622be-e6d6-498e-8fd7-a5a47841a490",
   "metadata": {},
   "outputs": [],
   "source": [
    "# regular expression to match strings that have a mix of letters and numbers\n",
    "pattern = r'\\b(?=.*[0-9])(?=.*[a-zA-Z])[a-zA-Z0-9]{10,}\\b'\n",
    "\n",
    "# function to remove matching patterns\n",
    "def remove_url_parts(text):\n",
    "    return re.sub(pattern, '', text)"
   ]
  },
  {
   "cell_type": "code",
   "execution_count": 13,
   "id": "2afc7d3f-ae2d-45de-8743-a474bd137df3",
   "metadata": {},
   "outputs": [],
   "source": [
    "# load contractions from the txt file\n",
    "with open('contractions.txt', 'r') as file:\n",
    "    contractions = file.read().split()"
   ]
  },
  {
   "cell_type": "code",
   "execution_count": 15,
   "id": "ae4eafbd-9846-4ecb-acb4-0f7765922a74",
   "metadata": {},
   "outputs": [],
   "source": [
    "def find_neologisms(subreddit_name, nltk_words):\n",
    "    path = 'tpp/r_' + subreddit_name + '_tpp.csv'\n",
    "    df = pd.read_csv(path)\n",
    "    df = df[['msg_lemmatized']]\n",
    "    \n",
    "    # ensure 'clean_lem' column can hold lists\n",
    "    df_clean = pd.DataFrame()\n",
    "    df_clean['clean_lem'] = df['msg_lemmatized'].apply(lambda lem: \n",
    "                                                       clean_lemmatized_strings([x.strip().replace(\"'\", \"\") for x in lem.split(',')]))\n",
    "    \n",
    "    # ensure the clean_lem column has lists and is not empty before exploding\n",
    "    df_clean = df_clean[df_clean['clean_lem'].apply(lambda x: isinstance(x, list) and len(x) > 2)]\n",
    "    \n",
    "    # explode the clean_lem column into separate rows\n",
    "    exploded_data = df_clean.explode('clean_lem')\n",
    "    # remove remaining brackets or unwanted characters after exploding\n",
    "    exploded_data['clean_lem'] = exploded_data['clean_lem'].str.strip('[]').str.strip()\n",
    "    exploded_data.reset_index(drop=True, inplace=True)\n",
    "    \n",
    "    # subtract dictionary from all tokens -> left with neologisms\n",
    "    # 1st pass: filter out words that are in the NLTK dictionary\n",
    "    df_neologisms = exploded_data[~exploded_data['clean_lem'].isin(nltk_words)]\n",
    "\n",
    "    # 2nd pass: filter out words that are in NLTK WordNet\n",
    "    words = df_neologisms['clean_lem'].unique()\n",
    "    neologisms = [word for word in words if not is_real_word(word)]\n",
    "    \n",
    "    # create a new DataFrame containing only the rows where 'lemma' is in the neologisms list\n",
    "    df_neologisms = df_neologisms[df_neologisms['clean_lem'].isin(neologisms)]\n",
    "    df_neologisms = df_neologisms['clean_lem'].unique()\n",
    "\n",
    "    neologisms_array = clean_neologisms(df_neologisms)\n",
    "\n",
    "    # apply the function to each element in the numpy array\n",
    "    cleaned_array = np.vectorize(remove_url_parts)(neologisms_array)\n",
    "    # remove extra spaces from each string\n",
    "    cleaned_array = np.char.strip(cleaned_array)\n",
    "\n",
    "    # filter out strings that are in the contractions list\n",
    "    filtered_array = [word for word in cleaned_array if word not in contractions]\n",
    "    # convert the filtered list back to a numpy array if needed\n",
    "    filtered_array = np.array(filtered_array)\n",
    "    filtered_array = np.unique(filtered_array)\n",
    "\n",
    "    # remove empty strings if needed\n",
    "    mask = (filtered_array != '')\n",
    "    final_array = filtered_array[mask]\n",
    "    \n",
    "    # save new DataFrame of neologisms\n",
    "    output_file_path = 'neologisms/r_' + subreddit_name + '.csv'\n",
    "    df_final = pd.DataFrame(final_array)\n",
    "    df_final.to_csv(output_file_path, index=True)\n",
    "    print(\"\\nneologisms dataframe saved to:\", output_file_path) \n",
    "    print('\\nnumber of neologisms:', len(final_array))"
   ]
  },
  {
   "cell_type": "code",
   "execution_count": 17,
   "id": "ddfdbd5e-9440-4053-961b-cce8c9a66b39",
   "metadata": {},
   "outputs": [],
   "source": [
    "subreddits = ['adops'] # create list of subreddits for lexical analysis"
   ]
  },
  {
   "cell_type": "code",
   "execution_count": 19,
   "id": "4290aa90-7166-4ea2-841b-bc52a45e4367",
   "metadata": {},
   "outputs": [
    {
     "name": "stdout",
     "output_type": "stream",
     "text": [
      "\n",
      "neologisms dataframe saved to: neologisms/r_adops.csv\n",
      "\n",
      "number of neologisms: 900\n"
     ]
    }
   ],
   "source": [
    "for subreddit in subreddits:\n",
    "    name = subreddit.lower()\n",
    "    find_neologisms(name, nltk_words)"
   ]
  },
  {
   "cell_type": "code",
   "execution_count": null,
   "id": "6494724e-6262-45f2-83b0-e75cf7be4ebe",
   "metadata": {},
   "outputs": [],
   "source": []
  }
 ],
 "metadata": {
  "kernelspec": {
   "display_name": "Python 3 (ipykernel)",
   "language": "python",
   "name": "python3"
  },
  "language_info": {
   "codemirror_mode": {
    "name": "ipython",
    "version": 3
   },
   "file_extension": ".py",
   "mimetype": "text/x-python",
   "name": "python",
   "nbconvert_exporter": "python",
   "pygments_lexer": "ipython3",
   "version": "3.12.4"
  }
 },
 "nbformat": 4,
 "nbformat_minor": 5
}
